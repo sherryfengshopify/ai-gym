{
  "nbformat": 4,
  "nbformat_minor": 0,
  "metadata": {
    "colab": {
      "provenance": [],
      "authorship_tag": "ABX9TyNWAt3XCtvXELp+c7xVXXj+",
      "include_colab_link": true
    },
    "kernelspec": {
      "name": "python3",
      "display_name": "Python 3"
    },
    "language_info": {
      "name": "python"
    }
  },
  "cells": [
    {
      "cell_type": "markdown",
      "metadata": {
        "id": "view-in-github",
        "colab_type": "text"
      },
      "source": [
        "<a href=\"https://colab.research.google.com/github/sherryfengshopify/ai-gym/blob/main/ReAct_test.ipynb\" target=\"_parent\"><img src=\"https://colab.research.google.com/assets/colab-badge.svg\" alt=\"Open In Colab\"/></a>"
      ]
    },
    {
      "cell_type": "code",
      "execution_count": 1,
      "metadata": {
        "id": "ro7GPS43Ym7b",
        "colab": {
          "base_uri": "https://localhost:8080/"
        },
        "outputId": "350fd8c4-f0b4-49c9-902d-364621f3651c"
      },
      "outputs": [
        {
          "output_type": "stream",
          "name": "stdout",
          "text": [
            "Requirement already satisfied: openai in /usr/local/lib/python3.10/dist-packages (1.54.4)\n",
            "Requirement already satisfied: anyio<5,>=3.5.0 in /usr/local/lib/python3.10/dist-packages (from openai) (3.7.1)\n",
            "Requirement already satisfied: distro<2,>=1.7.0 in /usr/local/lib/python3.10/dist-packages (from openai) (1.9.0)\n",
            "Requirement already satisfied: httpx<1,>=0.23.0 in /usr/local/lib/python3.10/dist-packages (from openai) (0.27.2)\n",
            "Requirement already satisfied: jiter<1,>=0.4.0 in /usr/local/lib/python3.10/dist-packages (from openai) (0.7.1)\n",
            "Requirement already satisfied: pydantic<3,>=1.9.0 in /usr/local/lib/python3.10/dist-packages (from openai) (2.9.2)\n",
            "Requirement already satisfied: sniffio in /usr/local/lib/python3.10/dist-packages (from openai) (1.3.1)\n",
            "Requirement already satisfied: tqdm>4 in /usr/local/lib/python3.10/dist-packages (from openai) (4.66.6)\n",
            "Requirement already satisfied: typing-extensions<5,>=4.11 in /usr/local/lib/python3.10/dist-packages (from openai) (4.12.2)\n",
            "Requirement already satisfied: idna>=2.8 in /usr/local/lib/python3.10/dist-packages (from anyio<5,>=3.5.0->openai) (3.10)\n",
            "Requirement already satisfied: exceptiongroup in /usr/local/lib/python3.10/dist-packages (from anyio<5,>=3.5.0->openai) (1.2.2)\n",
            "Requirement already satisfied: certifi in /usr/local/lib/python3.10/dist-packages (from httpx<1,>=0.23.0->openai) (2024.8.30)\n",
            "Requirement already satisfied: httpcore==1.* in /usr/local/lib/python3.10/dist-packages (from httpx<1,>=0.23.0->openai) (1.0.7)\n",
            "Requirement already satisfied: h11<0.15,>=0.13 in /usr/local/lib/python3.10/dist-packages (from httpcore==1.*->httpx<1,>=0.23.0->openai) (0.14.0)\n",
            "Requirement already satisfied: annotated-types>=0.6.0 in /usr/local/lib/python3.10/dist-packages (from pydantic<3,>=1.9.0->openai) (0.7.0)\n",
            "Requirement already satisfied: pydantic-core==2.23.4 in /usr/local/lib/python3.10/dist-packages (from pydantic<3,>=1.9.0->openai) (2.23.4)\n"
          ]
        }
      ],
      "source": [
        "!pip install openai"
      ]
    },
    {
      "cell_type": "code",
      "source": [
        "# @title Import and setup\n",
        "from google.cloud import bigquery\n",
        "from google.colab import data_table\n",
        "import bigframes.pandas as bpd\n",
        "import pandas as pd\n",
        "from openai import OpenAI\n",
        "import json\n",
        "import yaml\n",
        "\n",
        "# project = 'sdp-prd-build-ecosystem' # Project ID inserted based on the query results selected to explore\n",
        "# location = 'us-central1' # Location inserted based on the query results selected to explore\n",
        "\n",
        "llm = OpenAI(\n",
        "    base_url=\"https://openai-proxy.shopify.ai/v1\",\n",
        "    api_key=\"shopify-eyJpZCI6IjhhOTFmMmIyYjU2MzQ3NzFlMzQyZWU2NDRjMzFmYTY3IiwibW9kZSI6InBlcnNvbmFsIiwiZW1haWwiOiJzaGVycnkuZmVuZ0BzaG9waWZ5LmNvbSIsImV4cGlyeSI6MTczMzQyODAzNX0=-PJz6nHOe6gFKKQzAWyX8ySg5WzQ6llYcfcTFSKJiOJM=\"\n",
        ")\n",
        "\n",
        "# client = bigquery.Client(project=project, location='US')\n",
        "# data_table.enable_dataframe_formatter()"
      ],
      "metadata": {
        "id": "asmjCWGwNbeA"
      },
      "execution_count": 2,
      "outputs": []
    },
    {
      "cell_type": "code",
      "source": [
        "from google.colab import auth\n",
        "auth.authenticate_user()"
      ],
      "metadata": {
        "id": "tOPTs0NxN5JA"
      },
      "execution_count": 4,
      "outputs": []
    },
    {
      "cell_type": "code",
      "source": [
        "import openai\n",
        "import re\n",
        "import httpx\n",
        "import os"
      ],
      "metadata": {
        "id": "RUr6-t_eN77M"
      },
      "execution_count": 5,
      "outputs": []
    },
    {
      "cell_type": "code",
      "source": [
        "# client = OpenAI()\n",
        "\n",
        "MODEL = 'gpt-4o-mini'\n",
        "prompt = 'Write something short but funny.'\n",
        "\n",
        "chat_completion = llm.chat.completions.create(\n",
        "    model=MODEL,\n",
        "    messages=[\n",
        "        {\n",
        "            'role': 'user',\n",
        "            'content': prompt,\n",
        "        }\n",
        "    ]\n",
        ")"
      ],
      "metadata": {
        "id": "DksbXd8SPZvo"
      },
      "execution_count": 8,
      "outputs": []
    },
    {
      "cell_type": "code",
      "source": [
        "chat_completion.choices[0].message.content"
      ],
      "metadata": {
        "colab": {
          "base_uri": "https://localhost:8080/",
          "height": 35
        },
        "id": "8pk4wH4FP95g",
        "outputId": "72ddbc45-cd74-4b14-f675-78e474375090"
      },
      "execution_count": 9,
      "outputs": [
        {
          "output_type": "execute_result",
          "data": {
            "text/plain": [
              "'Why did the scarecrow win an award? Because he was outstanding in his field!'"
            ],
            "application/vnd.google.colaboratory.intrinsic+json": {
              "type": "string"
            }
          },
          "metadata": {},
          "execution_count": 9
        }
      ]
    },
    {
      "cell_type": "code",
      "source": [],
      "metadata": {
        "id": "Id35Qr4xQVRv"
      },
      "execution_count": null,
      "outputs": []
    }
  ]
}