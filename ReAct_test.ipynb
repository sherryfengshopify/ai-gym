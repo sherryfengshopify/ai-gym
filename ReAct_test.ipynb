{
  "nbformat": 4,
  "nbformat_minor": 0,
  "metadata": {
    "colab": {
      "provenance": [],
      "authorship_tag": "ABX9TyNYYxaIaneeaSALszYzZmdN",
      "include_colab_link": true
    },
    "kernelspec": {
      "name": "python3",
      "display_name": "Python 3"
    },
    "language_info": {
      "name": "python"
    }
  },
  "cells": [
    {
      "cell_type": "markdown",
      "metadata": {
        "id": "view-in-github",
        "colab_type": "text"
      },
      "source": [
        "<a href=\"https://colab.research.google.com/github/sherryfengshopify/ai-gym/blob/main/ReAct_test.ipynb\" target=\"_parent\"><img src=\"https://colab.research.google.com/assets/colab-badge.svg\" alt=\"Open In Colab\"/></a>"
      ]
    },
    {
      "cell_type": "code",
      "execution_count": null,
      "metadata": {
        "id": "ro7GPS43Ym7b",
        "colab": {
          "base_uri": "https://localhost:8080/"
        },
        "outputId": "a0e4e54e-50f3-4b28-fb45-1f9771899e8a",
        "collapsed": true
      },
      "outputs": [
        {
          "output_type": "stream",
          "name": "stdout",
          "text": [
            "Requirement already satisfied: openai in /usr/local/lib/python3.10/dist-packages (1.54.5)\n",
            "Requirement already satisfied: anyio<5,>=3.5.0 in /usr/local/lib/python3.10/dist-packages (from openai) (3.7.1)\n",
            "Requirement already satisfied: distro<2,>=1.7.0 in /usr/local/lib/python3.10/dist-packages (from openai) (1.9.0)\n",
            "Requirement already satisfied: httpx<1,>=0.23.0 in /usr/local/lib/python3.10/dist-packages (from openai) (0.28.0)\n",
            "Requirement already satisfied: jiter<1,>=0.4.0 in /usr/local/lib/python3.10/dist-packages (from openai) (0.8.0)\n",
            "Requirement already satisfied: pydantic<3,>=1.9.0 in /usr/local/lib/python3.10/dist-packages (from openai) (2.10.2)\n",
            "Requirement already satisfied: sniffio in /usr/local/lib/python3.10/dist-packages (from openai) (1.3.1)\n",
            "Requirement already satisfied: tqdm>4 in /usr/local/lib/python3.10/dist-packages (from openai) (4.66.6)\n",
            "Requirement already satisfied: typing-extensions<5,>=4.11 in /usr/local/lib/python3.10/dist-packages (from openai) (4.12.2)\n",
            "Requirement already satisfied: idna>=2.8 in /usr/local/lib/python3.10/dist-packages (from anyio<5,>=3.5.0->openai) (3.10)\n",
            "Requirement already satisfied: exceptiongroup in /usr/local/lib/python3.10/dist-packages (from anyio<5,>=3.5.0->openai) (1.2.2)\n",
            "Requirement already satisfied: certifi in /usr/local/lib/python3.10/dist-packages (from httpx<1,>=0.23.0->openai) (2024.8.30)\n",
            "Requirement already satisfied: httpcore==1.* in /usr/local/lib/python3.10/dist-packages (from httpx<1,>=0.23.0->openai) (1.0.7)\n",
            "Requirement already satisfied: h11<0.15,>=0.13 in /usr/local/lib/python3.10/dist-packages (from httpcore==1.*->httpx<1,>=0.23.0->openai) (0.14.0)\n",
            "Requirement already satisfied: annotated-types>=0.6.0 in /usr/local/lib/python3.10/dist-packages (from pydantic<3,>=1.9.0->openai) (0.7.0)\n",
            "Requirement already satisfied: pydantic-core==2.27.1 in /usr/local/lib/python3.10/dist-packages (from pydantic<3,>=1.9.0->openai) (2.27.1)\n"
          ]
        }
      ],
      "source": [
        "!pip install openai"
      ]
    },
    {
      "cell_type": "code",
      "source": [
        "!pip install --upgrade openai httpx"
      ],
      "metadata": {
        "collapsed": true,
        "colab": {
          "base_uri": "https://localhost:8080/"
        },
        "id": "RfPQEuiownfI",
        "outputId": "704e9255-7a1d-4b3e-bc70-8e454eea0a8f"
      },
      "execution_count": null,
      "outputs": [
        {
          "output_type": "stream",
          "name": "stdout",
          "text": [
            "Requirement already satisfied: openai in /usr/local/lib/python3.10/dist-packages (1.54.5)\n",
            "Collecting openai\n",
            "  Downloading openai-1.57.0-py3-none-any.whl.metadata (24 kB)\n",
            "Requirement already satisfied: httpx in /usr/local/lib/python3.10/dist-packages (0.28.0)\n",
            "Collecting httpx\n",
            "  Downloading httpx-0.28.1-py3-none-any.whl.metadata (7.1 kB)\n",
            "Requirement already satisfied: anyio<5,>=3.5.0 in /usr/local/lib/python3.10/dist-packages (from openai) (3.7.1)\n",
            "Requirement already satisfied: distro<2,>=1.7.0 in /usr/local/lib/python3.10/dist-packages (from openai) (1.9.0)\n",
            "Requirement already satisfied: jiter<1,>=0.4.0 in /usr/local/lib/python3.10/dist-packages (from openai) (0.8.0)\n",
            "Requirement already satisfied: pydantic<3,>=1.9.0 in /usr/local/lib/python3.10/dist-packages (from openai) (2.10.2)\n",
            "Requirement already satisfied: sniffio in /usr/local/lib/python3.10/dist-packages (from openai) (1.3.1)\n",
            "Requirement already satisfied: tqdm>4 in /usr/local/lib/python3.10/dist-packages (from openai) (4.66.6)\n",
            "Requirement already satisfied: typing-extensions<5,>=4.11 in /usr/local/lib/python3.10/dist-packages (from openai) (4.12.2)\n",
            "Requirement already satisfied: certifi in /usr/local/lib/python3.10/dist-packages (from httpx) (2024.8.30)\n",
            "Requirement already satisfied: httpcore==1.* in /usr/local/lib/python3.10/dist-packages (from httpx) (1.0.7)\n",
            "Requirement already satisfied: idna in /usr/local/lib/python3.10/dist-packages (from httpx) (3.10)\n",
            "Requirement already satisfied: h11<0.15,>=0.13 in /usr/local/lib/python3.10/dist-packages (from httpcore==1.*->httpx) (0.14.0)\n",
            "Requirement already satisfied: exceptiongroup in /usr/local/lib/python3.10/dist-packages (from anyio<5,>=3.5.0->openai) (1.2.2)\n",
            "Requirement already satisfied: annotated-types>=0.6.0 in /usr/local/lib/python3.10/dist-packages (from pydantic<3,>=1.9.0->openai) (0.7.0)\n",
            "Requirement already satisfied: pydantic-core==2.27.1 in /usr/local/lib/python3.10/dist-packages (from pydantic<3,>=1.9.0->openai) (2.27.1)\n",
            "Downloading openai-1.57.0-py3-none-any.whl (389 kB)\n",
            "\u001b[2K   \u001b[90m━━━━━━━━━━━━━━━━━━━━━━━━━━━━━━━━━━━━━━━━\u001b[0m \u001b[32m389.9/389.9 kB\u001b[0m \u001b[31m8.8 MB/s\u001b[0m eta \u001b[36m0:00:00\u001b[0m\n",
            "\u001b[?25hDownloading httpx-0.28.1-py3-none-any.whl (73 kB)\n",
            "\u001b[2K   \u001b[90m━━━━━━━━━━━━━━━━━━━━━━━━━━━━━━━━━━━━━━━━\u001b[0m \u001b[32m73.5/73.5 kB\u001b[0m \u001b[31m5.5 MB/s\u001b[0m eta \u001b[36m0:00:00\u001b[0m\n",
            "\u001b[?25hInstalling collected packages: httpx, openai\n",
            "  Attempting uninstall: httpx\n",
            "    Found existing installation: httpx 0.28.0\n",
            "    Uninstalling httpx-0.28.0:\n",
            "      Successfully uninstalled httpx-0.28.0\n",
            "  Attempting uninstall: openai\n",
            "    Found existing installation: openai 1.54.5\n",
            "    Uninstalling openai-1.54.5:\n",
            "      Successfully uninstalled openai-1.54.5\n",
            "Successfully installed httpx-0.28.1 openai-1.57.0\n"
          ]
        }
      ]
    },
    {
      "cell_type": "code",
      "source": [
        "# @title Import and setup\n",
        "from google.cloud import bigquery\n",
        "from google.colab import data_table\n",
        "import bigframes.pandas as bpd\n",
        "import pandas as pd\n",
        "from openai import OpenAI\n",
        "import json\n",
        "import yaml\n",
        "\n",
        "# project = 'sdp-prd-build-ecosystem' # Project ID inserted based on the query results selected to explore\n",
        "# location = 'us-central1' # Location inserted based on the query results selected to explore\n",
        "\n",
        "llm = OpenAI(\n",
        "    base_url=\"https://openai-proxy.shopify.ai/v1\",\n",
        "    api_key=\"shopify-eyJpZCI6IjcyNTA1MGNjN2JmOThiOWEwMGE5ODAyMGZiM2U1NWM0IiwibW9kZSI6InBlcnNvbmFsIiwiZW1haWwiOiJzaGVycnkuZmVuZ0BzaG9waWZ5LmNvbSIsImV4cGlyeSI6MTczMzU4ODE0Nn0=-GfKu6/4M7W+R7DXi03LvG+P2zjFRp5Q6NPrU/+oh7Fw=\"\n",
        ")\n",
        "\n",
        "# client = bigquery.Client(project=project, location='US')\n",
        "# data_table.enable_dataframe_formatter()"
      ],
      "metadata": {
        "id": "asmjCWGwNbeA"
      },
      "execution_count": null,
      "outputs": []
    },
    {
      "cell_type": "code",
      "source": [
        "from google.colab import auth\n",
        "auth.authenticate_user()"
      ],
      "metadata": {
        "id": "tOPTs0NxN5JA"
      },
      "execution_count": null,
      "outputs": []
    },
    {
      "cell_type": "code",
      "source": [
        "import openai\n",
        "import re\n",
        "import httpx\n",
        "import os"
      ],
      "metadata": {
        "id": "RUr6-t_eN77M"
      },
      "execution_count": null,
      "outputs": []
    },
    {
      "cell_type": "code",
      "source": [
        "# client = OpenAI()\n",
        "\n",
        "MODEL = 'gpt-4o-mini'\n",
        "prompt = 'Write something short but funny.'\n",
        "\n",
        "chat_completion = llm.chat.completions.create(\n",
        "    model=MODEL,\n",
        "    messages=[\n",
        "        {\n",
        "            'role': 'user',\n",
        "            'content': prompt,\n",
        "        }\n",
        "    ]\n",
        ")"
      ],
      "metadata": {
        "id": "DksbXd8SPZvo"
      },
      "execution_count": null,
      "outputs": []
    },
    {
      "cell_type": "code",
      "source": [
        "chat_completion.choices[0].message.content"
      ],
      "metadata": {
        "colab": {
          "base_uri": "https://localhost:8080/",
          "height": 35
        },
        "id": "8pk4wH4FP95g",
        "outputId": "0f5b97be-d3bf-4525-d942-382de37ffd66"
      },
      "execution_count": null,
      "outputs": [
        {
          "output_type": "execute_result",
          "data": {
            "text/plain": [
              "'Why did the scarecrow win an award? Because he was outstanding in his field!'"
            ],
            "application/vnd.google.colaboratory.intrinsic+json": {
              "type": "string"
            }
          },
          "metadata": {},
          "execution_count": 5
        }
      ]
    },
    {
      "cell_type": "code",
      "source": [
        "# @title Creating the agent class\n",
        "\n",
        "class Agent:\n",
        "  def __init__(self, system=''):\n",
        "    self.system = system\n",
        "    self.messages = []\n",
        "\n",
        "    if self.system:\n",
        "      self.messages.append({'role': 'system', 'content': system})\n",
        "\n",
        "  def __call__(self, prompt):\n",
        "    self.messages.append({'role': 'user', 'content': prompt})\n",
        "    result = self.execute()\n",
        "    self.messages.append({'role': 'assistant', 'content': result})\n",
        "    return result\n",
        "\n",
        "  def execute(self, model='gpt-4o-mini', temperature=0):\n",
        "    completion = llm.chat.completions.create(\n",
        "        model=model,\n",
        "        temperature=temperature,\n",
        "        messages=self.messages\n",
        "    )\n",
        "    return completion.choices[0].message.content"
      ],
      "metadata": {
        "id": "Id35Qr4xQVRv"
      },
      "execution_count": null,
      "outputs": []
    },
    {
      "cell_type": "code",
      "source": [
        "# @title Creating the ReAct prompt\n",
        "prompt = '''\n",
        "You run in a loop of Thought, Action, PAUSE, Observation.\n",
        "At the end of the loop you output an Answer\n",
        "Use Thought to describe your thoughts about the question you have been asked.\n",
        "Use Action to run one of the actions available to you - then return PAUSE.\n",
        "Observation will be the result of running those actions.\n",
        "\n",
        "Your available actions are:\n",
        "\n",
        "calculate:\n",
        "e.g. calculate 4 * 7 / 3\n",
        "Runs a calculation and returns the number - uses Python so be sure to use floating point syntax if necessary\n",
        "\n",
        "get_cost:\n",
        "e.g. get_cost: book\n",
        "returns the cost of a book\n",
        "\n",
        "wikipedia:\n",
        "e.g. wikipedia: LangChain\n",
        "Returns a summary from searching Wikipedia\n",
        "\n",
        "Always look things up on Wikipedia if you have the opportunity to do so.\n",
        "\n",
        "Example session #1:\n",
        "\n",
        "Question: How much does a pen cost?\n",
        "Thought: I should look the pen cost using get_cost\n",
        "Action: get_cost: pen\n",
        "PAUSE\n",
        "\n",
        "You will be called again with this:\n",
        "\n",
        "Observation: A pen costs $5\n",
        "\n",
        "\n",
        "Example session #2:\n",
        "\n",
        "Question: What is the capital of France?\n",
        "Thought: I should look up France on Wikipedia\n",
        "Action: wikipedia: France\n",
        "PAUSE\n",
        "\n",
        "You will be called again with this:\n",
        "\n",
        "Observation: France is a country. The capital is Paris.\n",
        "\n",
        "You then output:\n",
        "\n",
        "Answer: The capital of France is Paris.\n",
        "\n",
        "'''.strip()"
      ],
      "metadata": {
        "id": "XhY8SWokWeYy"
      },
      "execution_count": null,
      "outputs": []
    },
    {
      "cell_type": "code",
      "source": [
        "# @title Creating the tools\n",
        "\n",
        "# 1. the calculate() function takes in a string, evaluates that string, and returns the result\n",
        "def calculate(what):\n",
        "  return eval(what)\n",
        "\n",
        "# 2. the get_cost() function returns the cost for a pen, a book, and a stapler\n",
        "def get_cost(thing):\n",
        "  if thing in 'pen':\n",
        "    return('A pen costs $5')\n",
        "  elif thing in 'book':\n",
        "    return('A book costs $20')\n",
        "  elif thing in 'stapler':\n",
        "    return('A stapler costs $10')\n",
        "  else:\n",
        "    return('A random thing for writing costs $12.')\n",
        "\n",
        "#3. the wikipedia() function uses the Wikipedia API to search for a specific query on Wikipedia\n",
        "def wikipedia(q):\n",
        "  response = httpx.get('https://en.wikipedia.org/w/api.php', params={\n",
        "      'action': 'query',\n",
        "      'list': 'search',\n",
        "      'srsearch': q,\n",
        "      'format': 'json',\n",
        "  })\n",
        "  results = response.json().get('query').get('search', [])\n",
        "\n",
        "  if not results:\n",
        "    return None\n",
        "  return results[0]['snippet']"
      ],
      "metadata": {
        "id": "4XxMcKCxjXBi"
      },
      "execution_count": null,
      "outputs": []
    },
    {
      "cell_type": "code",
      "source": [
        "wikipedia('langchain')"
      ],
      "metadata": {
        "colab": {
          "base_uri": "https://localhost:8080/",
          "height": 53
        },
        "id": "34UVo3BTxAHO",
        "outputId": "91fe3040-74d3-4a1c-96bc-480bd9989455"
      },
      "execution_count": null,
      "outputs": [
        {
          "output_type": "execute_result",
          "data": {
            "text/plain": [
              "'<span class=\"searchmatch\">LangChain</span> is a software framework that helps facilitate the integration of large language models (LLMs) into applications. As a language model integration'"
            ],
            "application/vnd.google.colaboratory.intrinsic+json": {
              "type": "string"
            }
          },
          "metadata": {},
          "execution_count": 10
        }
      ]
    },
    {
      "cell_type": "code",
      "source": [
        "# dictionary that maps the function names to the function themselves\n",
        "known_actions = {\n",
        "    'calculate': calculate,\n",
        "    'get_cost': get_cost,\n",
        "    'wikipedia': wikipedia\n",
        "}"
      ],
      "metadata": {
        "id": "etYUX8e_yc2e"
      },
      "execution_count": null,
      "outputs": []
    },
    {
      "cell_type": "code",
      "source": [
        "# @title Testing the agent\n",
        "my_agent = Agent(prompt)"
      ],
      "metadata": {
        "id": "TD9I14rNytlw"
      },
      "execution_count": null,
      "outputs": []
    },
    {
      "cell_type": "code",
      "source": [
        "# calling the agent with this initial question\n",
        "result = my_agent('How much does a pen cost?')\n",
        "print(result)"
      ],
      "metadata": {
        "colab": {
          "base_uri": "https://localhost:8080/"
        },
        "id": "0m0InIx_z6b_",
        "outputId": "8f48b66c-34bb-4f53-a551-dae82e9ab93a"
      },
      "execution_count": null,
      "outputs": [
        {
          "output_type": "stream",
          "name": "stdout",
          "text": [
            "Thought: I should look up the cost of a pen using the get_cost action.  \n",
            "Action: get_cost: pen  \n",
            "PAUSE\n"
          ]
        }
      ]
    },
    {
      "cell_type": "code",
      "source": [
        "# creating the next prompt that will be used as an observation and passed to the language model\n",
        "next_prompt = f\"Observation: {get_cost('pen')}\""
      ],
      "metadata": {
        "id": "4l7ixIls0CW9"
      },
      "execution_count": null,
      "outputs": []
    },
    {
      "cell_type": "code",
      "source": [
        "# calling the agent with that next prompt\n",
        "my_agent(next_prompt)"
      ],
      "metadata": {
        "colab": {
          "base_uri": "https://localhost:8080/",
          "height": 35
        },
        "id": "eVLfMVYc0ZfN",
        "outputId": "dc44c924-714c-4d5b-dbcf-12c0ba1e7355"
      },
      "execution_count": null,
      "outputs": [
        {
          "output_type": "execute_result",
          "data": {
            "text/plain": [
              "'Answer: A pen costs $5.'"
            ],
            "application/vnd.google.colaboratory.intrinsic+json": {
              "type": "string"
            }
          },
          "metadata": {},
          "execution_count": 16
        }
      ]
    },
    {
      "cell_type": "code",
      "source": [
        "my_agent.messages"
      ],
      "metadata": {
        "colab": {
          "base_uri": "https://localhost:8080/"
        },
        "id": "qDUTwIOg0hDl",
        "outputId": "a37f33a5-7422-4824-a19d-5af932621370"
      },
      "execution_count": null,
      "outputs": [
        {
          "output_type": "execute_result",
          "data": {
            "text/plain": [
              "[{'role': 'system',\n",
              "  'content': 'You run in a loop of Thought, Action, PAUSE, Observation.\\nAt the end of the loop you output an Answer\\nUse Thought to describe your thoughts about the question you have been asked.\\nUse Action to run one of the actions available to you - then return PAUSE.\\nObservation will be the result of running those actions.\\n\\nYour available actions are:\\n\\ncalculate:\\ne.g. calculate 4 * 7 / 3\\nRuns a calculation and returns the number - uses Python so be sure to use floating point syntax if necessary\\n\\nget_cost:\\ne.g. get_cost: book\\nreturns the cost of a book\\n\\nwikipedia:\\ne.g. wikipedia: LangChain\\nReturns a summary from searching Wikipedia\\n\\nAlways look things up on Wikipedia if you have the opportunity to do so.\\n\\nExample session #1:\\n\\nQuestion: How much does a pen cost?\\nThought: I should look the pen cost using get_cost\\nAction: get_cost: pen\\nPAUSE\\n\\nYou will be called again with this:\\n\\nObservation: A pen costs $5\\n\\n\\nExample session #2:\\n\\nQuestion: What is the capital of France?\\nThought: I should look up France on Wikipedia\\nAction: wikipedia: France\\nPAUSE\\n\\nYou will be called again with this:\\n\\nObservation: France is a country. The capital is Paris.\\n\\nYou then output:\\n\\nAnswer: The capital of France is Paris.'},\n",
              " {'role': 'user', 'content': 'How much does a pen cost?'},\n",
              " {'role': 'assistant',\n",
              "  'content': 'Thought: I should look up the cost of a pen using the get_cost action.  \\nAction: get_cost: pen  \\nPAUSE'},\n",
              " {'role': 'user', 'content': 'Observation: A pen costs $5'},\n",
              " {'role': 'assistant', 'content': 'Answer: A pen costs $5.'}]"
            ]
          },
          "metadata": {},
          "execution_count": 17
        }
      ]
    },
    {
      "cell_type": "code",
      "source": [
        "abot = Agent(prompt)"
      ],
      "metadata": {
        "id": "5B-lTOyg0nle"
      },
      "execution_count": null,
      "outputs": []
    },
    {
      "cell_type": "code",
      "source": [
        "question = '''I want to buy a pen and a book.\n",
        "How much do they cost in total?'''\n",
        "\n",
        "abot(question)"
      ],
      "metadata": {
        "colab": {
          "base_uri": "https://localhost:8080/",
          "height": 53
        },
        "id": "LKWFdfr500kA",
        "outputId": "cb358446-8679-49ff-9b1f-d4e977f82c28"
      },
      "execution_count": null,
      "outputs": [
        {
          "output_type": "execute_result",
          "data": {
            "text/plain": [
              "'Thought: I need to find the cost of both a pen and a book to calculate the total cost. I will first get the cost of each item using the get_cost action. \\nAction: get_cost: pen\\nPAUSE'"
            ],
            "application/vnd.google.colaboratory.intrinsic+json": {
              "type": "string"
            }
          },
          "metadata": {},
          "execution_count": 29
        }
      ]
    },
    {
      "cell_type": "code",
      "source": [
        "# executing the action and creating the next prompt.\n",
        "next_prompt = f'Observation: {get_cost(\"pen\")}'\n",
        "print(next_prompt)"
      ],
      "metadata": {
        "colab": {
          "base_uri": "https://localhost:8080/"
        },
        "id": "uxkBTMiR0-A9",
        "outputId": "82cba789-793a-4bf2-e6ad-9c2508c85e18"
      },
      "execution_count": null,
      "outputs": [
        {
          "output_type": "stream",
          "name": "stdout",
          "text": [
            "Observation: A pen costs $5\n"
          ]
        }
      ]
    },
    {
      "cell_type": "code",
      "source": [
        "abot(next_prompt)"
      ],
      "metadata": {
        "colab": {
          "base_uri": "https://localhost:8080/",
          "height": 53
        },
        "id": "BDEus38w3Jdz",
        "outputId": "492ee381-db63-41d2-8f9b-cbce54c53c5e"
      },
      "execution_count": null,
      "outputs": [
        {
          "output_type": "execute_result",
          "data": {
            "text/plain": [
              "'Thought: Now that I have the cost of the pen, I need to find the cost of the book to calculate the total. \\nAction: get_cost: book\\nPAUSE'"
            ],
            "application/vnd.google.colaboratory.intrinsic+json": {
              "type": "string"
            }
          },
          "metadata": {},
          "execution_count": 31
        }
      ]
    },
    {
      "cell_type": "code",
      "source": [
        "next_prompt = f'Observation: {get_cost(\"book\")}'\n",
        "print(next_prompt)"
      ],
      "metadata": {
        "colab": {
          "base_uri": "https://localhost:8080/"
        },
        "id": "amaCHOaO3UFq",
        "outputId": "b6b7f826-b612-4353-c6d3-a76ce82f2400"
      },
      "execution_count": null,
      "outputs": [
        {
          "output_type": "stream",
          "name": "stdout",
          "text": [
            "Observation: A book costs $20\n"
          ]
        }
      ]
    },
    {
      "cell_type": "code",
      "source": [
        "abot(next_prompt)"
      ],
      "metadata": {
        "colab": {
          "base_uri": "https://localhost:8080/",
          "height": 53
        },
        "id": "ssby3mW93eL-",
        "outputId": "e784c662-b1b6-4526-ce0b-2e5687cfed22"
      },
      "execution_count": null,
      "outputs": [
        {
          "output_type": "execute_result",
          "data": {
            "text/plain": [
              "'Thought: I now have the costs of both the pen and the book. The pen costs $5 and the book costs $20. I will calculate the total cost by adding these two amounts together. \\nAction: calculate: 5 + 20\\nPAUSE'"
            ],
            "application/vnd.google.colaboratory.intrinsic+json": {
              "type": "string"
            }
          },
          "metadata": {},
          "execution_count": 33
        }
      ]
    },
    {
      "cell_type": "code",
      "source": [
        "abot = Agent(prompt)"
      ],
      "metadata": {
        "id": "4_dlVb013lou"
      },
      "execution_count": null,
      "outputs": []
    },
    {
      "cell_type": "code",
      "source": [
        "query = '2024 United Kingdom elections'\n",
        "abot(query)"
      ],
      "metadata": {
        "colab": {
          "base_uri": "https://localhost:8080/",
          "height": 53
        },
        "id": "1XKpVIXU4Dyo",
        "outputId": "107d9080-a71b-4bcb-cd3f-694fb6462bbc"
      },
      "execution_count": null,
      "outputs": [
        {
          "output_type": "execute_result",
          "data": {
            "text/plain": [
              "'Thought: I should look up information about the 2024 United Kingdom elections on Wikipedia to get the most accurate and detailed information.  \\nAction: wikipedia: 2024 United Kingdom elections  \\nPAUSE'"
            ],
            "application/vnd.google.colaboratory.intrinsic+json": {
              "type": "string"
            }
          },
          "metadata": {},
          "execution_count": 39
        }
      ]
    },
    {
      "cell_type": "code",
      "source": [
        "# calling the wikipedia() function and creating the next prompt\n",
        "next_prompt = f'Observation: {wikipedia(query)}'\n",
        "print(next_prompt)"
      ],
      "metadata": {
        "colab": {
          "base_uri": "https://localhost:8080/"
        },
        "id": "PJXFpAQi4Km5",
        "outputId": "00b87373-3e29-472a-fd87-d3e8a119b24f"
      },
      "execution_count": null,
      "outputs": [
        {
          "output_type": "stream",
          "name": "stdout",
          "text": [
            "Observation: The <span class=\"searchmatch\">2024</span> <span class=\"searchmatch\">United</span> <span class=\"searchmatch\">Kingdom</span> general <span class=\"searchmatch\">election</span> was held on Thursday, 4 July <span class=\"searchmatch\">2024</span>, to elect 650 members of Parliament to the House of Commons, the lower house\n"
          ]
        }
      ]
    },
    {
      "cell_type": "code",
      "source": [
        "# calling the agent with the new prompt, which in turn is gving the final answer\n",
        "abot(next_prompt)"
      ],
      "metadata": {
        "colab": {
          "base_uri": "https://localhost:8080/",
          "height": 53
        },
        "id": "OH-9M2C84TGY",
        "outputId": "2e7c0326-45c5-48ea-e897-7d0f35720018"
      },
      "execution_count": null,
      "outputs": [
        {
          "output_type": "execute_result",
          "data": {
            "text/plain": [
              "'Answer: The 2024 United Kingdom general election was held on Thursday, 4 July 2024, to elect 650 members of Parliament to the House of Commons, the lower house.'"
            ],
            "application/vnd.google.colaboratory.intrinsic+json": {
              "type": "string"
            }
          },
          "metadata": {},
          "execution_count": 41
        }
      ]
    },
    {
      "cell_type": "code",
      "source": [
        "abot.messages"
      ],
      "metadata": {
        "colab": {
          "base_uri": "https://localhost:8080/"
        },
        "id": "1dOY6Jgu4bgd",
        "outputId": "098a0782-3117-4380-a01d-0f59702b1c96"
      },
      "execution_count": null,
      "outputs": [
        {
          "output_type": "execute_result",
          "data": {
            "text/plain": [
              "[{'role': 'system',\n",
              "  'content': 'You run in a loop of Thought, Action, PAUSE, Observation.\\nAt the end of the loop you output an Answer\\nUse Thought to describe your thoughts about the question you have been asked.\\nUse Action to run one of the actions available to you - then return PAUSE.\\nObservation will be the result of running those actions.\\n\\nYour available actions are:\\n\\ncalculate:\\ne.g. calculate 4 * 7 / 3\\nRuns a calculation and returns the number - uses Python so be sure to use floating point syntax if necessary\\n\\nget_cost:\\ne.g. get_cost: book\\nreturns the cost of a book\\n\\nwikipedia:\\ne.g. wikipedia: LangChain\\nReturns a summary from searching Wikipedia\\n\\nAlways look things up on Wikipedia if you have the opportunity to do so.\\n\\nExample session #1:\\n\\nQuestion: How much does a pen cost?\\nThought: I should look the pen cost using get_cost\\nAction: get_cost: pen\\nPAUSE\\n\\nYou will be called again with this:\\n\\nObservation: A pen costs $5\\n\\n\\nExample session #2:\\n\\nQuestion: What is the capital of France?\\nThought: I should look up France on Wikipedia\\nAction: wikipedia: France\\nPAUSE\\n\\nYou will be called again with this:\\n\\nObservation: France is a country. The capital is Paris.\\n\\nYou then output:\\n\\nAnswer: The capital of France is Paris.'},\n",
              " {'role': 'user', 'content': '2024 United Kingdom elections'},\n",
              " {'role': 'assistant',\n",
              "  'content': 'Thought: I should look up information about the 2024 United Kingdom elections on Wikipedia to get the most accurate and detailed information.  \\nAction: wikipedia: 2024 United Kingdom elections  \\nPAUSE'},\n",
              " {'role': 'user',\n",
              "  'content': 'Observation: The <span class=\"searchmatch\">2024</span> <span class=\"searchmatch\">United</span> <span class=\"searchmatch\">Kingdom</span> general <span class=\"searchmatch\">election</span> was held on Thursday, 4 July <span class=\"searchmatch\">2024</span>, to elect 650 members of Parliament to the House of Commons, the lower house'},\n",
              " {'role': 'assistant',\n",
              "  'content': 'Answer: The 2024 United Kingdom general election was held on Thursday, 4 July 2024, to elect 650 members of Parliament to the House of Commons, the lower house.'}]"
            ]
          },
          "metadata": {},
          "execution_count": 42
        }
      ]
    },
    {
      "cell_type": "code",
      "source": [],
      "metadata": {
        "id": "Oe6Y4gXp4nNI"
      },
      "execution_count": null,
      "outputs": []
    }
  ]
}